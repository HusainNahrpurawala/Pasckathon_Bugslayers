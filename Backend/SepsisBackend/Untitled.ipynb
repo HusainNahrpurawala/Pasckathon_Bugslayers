{
 "cells": [
  {
   "cell_type": "code",
   "execution_count": 22,
   "metadata": {},
   "outputs": [],
   "source": [
    "import pandas as pd"
   ]
  },
  {
   "cell_type": "code",
   "execution_count": 23,
   "metadata": {},
   "outputs": [],
   "source": [
    "f = pd.read_csv('ex.csv')"
   ]
  },
  {
   "cell_type": "code",
   "execution_count": 24,
   "metadata": {},
   "outputs": [],
   "source": [
    "col = list(f.columns)"
   ]
  },
  {
   "cell_type": "code",
   "execution_count": 25,
   "metadata": {},
   "outputs": [],
   "source": [
    "out = {}"
   ]
  },
  {
   "cell_type": "code",
   "execution_count": 26,
   "metadata": {},
   "outputs": [],
   "source": [
    "for c in col:\n",
    "    k = c.lower()\n",
    "    val = f.iloc[0][c]\n",
    "    out[k] = val"
   ]
  },
  {
   "cell_type": "code",
   "execution_count": 33,
   "metadata": {},
   "outputs": [
    {
     "data": {
      "text/plain": [
       "{'hr': 99.0,\n",
       " 'o2sat': 100.0,\n",
       " 'temp': 37.39,\n",
       " 'sbp': 91.0,\n",
       " 'map': 69.0,\n",
       " 'dbp': 54.0,\n",
       " 'resp': 15.0,\n",
       " 'etco2': 32.95765667291276,\n",
       " 'baseexcess': 3.0,\n",
       " 'hco3': 27.0,\n",
       " 'fio2': 0.4,\n",
       " 'ph': 7.43,\n",
       " 'paco2': 42.0,\n",
       " 'sao2': 98.0,\n",
       " 'ast': 58.0,\n",
       " 'bun': 40.0,\n",
       " 'alkalinephos': 379.0,\n",
       " 'calcium': 9.6,\n",
       " 'chloride': 98.0,\n",
       " 'creatinine': 4.6,\n",
       " 'bilirubin_direct': 1.836177257525115,\n",
       " 'glucose': 100.0,\n",
       " 'lactate': 1.2,\n",
       " 'magnesium': 2.3,\n",
       " 'phosphate': 3.9,\n",
       " 'potassium': 4.5,\n",
       " 'bilirubin_total': 1.8,\n",
       " 'troponini': 8.290099451998875,\n",
       " 'hct': 25.3,\n",
       " 'hgb': 8.5,\n",
       " 'ptt': 36.7,\n",
       " 'wbc': 16.1,\n",
       " 'fibrinogen': 287.3857059168132,\n",
       " 'platelets': 340.0,\n",
       " 'age': 69.73,\n",
       " 'gender': 0.0,\n",
       " 'hospadmtime': -874.73,\n",
       " 'iculos': 21.0}"
      ]
     },
     "execution_count": 33,
     "metadata": {},
     "output_type": "execute_result"
    }
   ],
   "source": [
    "out"
   ]
  },
  {
   "cell_type": "code",
   "execution_count": 28,
   "metadata": {},
   "outputs": [
    {
     "data": {
      "text/plain": [
       "['Unnamed: 0', '153211']"
      ]
     },
     "execution_count": 28,
     "metadata": {},
     "output_type": "execute_result"
    }
   ],
   "source": [
    "col"
   ]
  },
  {
   "cell_type": "code",
   "execution_count": 32,
   "metadata": {},
   "outputs": [],
   "source": [
    "out = {}\n",
    "for i in range(38):\n",
    "    k = f.iloc[i][0].lower()\n",
    "    val = f.iloc[i][1]\n",
    "    out[k] = val"
   ]
  },
  {
   "cell_type": "code",
   "execution_count": null,
   "metadata": {
    "collapsed": true
   },
   "outputs": [],
   "source": []
  }
 ],
 "metadata": {
  "kernelspec": {
   "display_name": "Python 3",
   "language": "python",
   "name": "python3"
  },
  "language_info": {
   "codemirror_mode": {
    "name": "ipython",
    "version": 3
   },
   "file_extension": ".py",
   "mimetype": "text/x-python",
   "name": "python",
   "nbconvert_exporter": "python",
   "pygments_lexer": "ipython3",
   "version": "3.7.4"
  }
 },
 "nbformat": 4,
 "nbformat_minor": 4
}
